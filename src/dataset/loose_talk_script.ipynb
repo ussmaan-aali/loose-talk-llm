{
 "cells": [
  {
   "cell_type": "code",
   "execution_count": 1,
   "metadata": {},
   "outputs": [],
   "source": [
    "import os\n",
    "import json\n",
    "import pandas as pd\n",
    "\n",
    "transcriptions_folder = \"D:/Personal Projects/losse_talk/src/dataset/transcriptions\" "
   ]
  },
  {
   "cell_type": "code",
   "execution_count": 2,
   "metadata": {},
   "outputs": [],
   "source": [
    "import re\n",
    "\n",
    "def extract_episode_number(filename):\n",
    "    match = re.search(r'(?:Episode_|Ep_)(\\d+)', filename, re.IGNORECASE)  \n",
    "    if match:\n",
    "        return int(match.group(1))  # Convert to integer for easy sorting/comparison\n",
    "    return None"
   ]
  },
  {
   "cell_type": "code",
   "execution_count": 3,
   "metadata": {},
   "outputs": [],
   "source": [
    "data = []\n",
    "\n",
    "for file_name in os.listdir(transcriptions_folder):\n",
    "    ep_no = extract_episode_number(file_name)\n",
    "    file_path = os.path.join(transcriptions_folder, file_name)\n",
    "    with open(file_path, 'r') as f:\n",
    "        transcription = json.load(f)\n",
    "\n",
    "    line = \"\"\n",
    "    speaker = \"speaker_0\"\n",
    "    for word in transcription['words']:\n",
    "        if word['text'][0] == \"(\" and word['text'][-1] == \")\":\n",
    "            continue\n",
    "        \n",
    "        if word['speaker_id'] == speaker:\n",
    "            line += word['text']\n",
    "        else:\n",
    "            data.append({\n",
    "                # \"index\": 1, \n",
    "                \"episode no\": ep_no, \n",
    "                \"name\": \"moeen\" if speaker==\"speaker_1\" else \"anwar\",\n",
    "                \"line\": line    \n",
    "            })\n",
    "            speaker = word['speaker_id']\n",
    "            line = word['text']"
   ]
  },
  {
   "cell_type": "code",
   "execution_count": 4,
   "metadata": {},
   "outputs": [],
   "source": [
    "df = pd.DataFrame(data)"
   ]
  },
  {
   "cell_type": "code",
   "execution_count": 5,
   "metadata": {},
   "outputs": [
    {
     "name": "stdout",
     "output_type": "stream",
     "text": [
      "<class 'pandas.core.frame.DataFrame'>\n",
      "RangeIndex: 2350 entries, 0 to 2349\n",
      "Data columns (total 3 columns):\n",
      " #   Column      Non-Null Count  Dtype \n",
      "---  ------      --------------  ----- \n",
      " 0   episode no  2350 non-null   int64 \n",
      " 1   name        2350 non-null   object\n",
      " 2   line        2350 non-null   object\n",
      "dtypes: int64(1), object(2)\n",
      "memory usage: 55.2+ KB\n"
     ]
    }
   ],
   "source": [
    "df.info()"
   ]
  },
  {
   "cell_type": "code",
   "execution_count": 6,
   "metadata": {},
   "outputs": [],
   "source": [
    "df.to_csv(\"srcipt.csv\", index=True, index_label=\"index\")"
   ]
  },
  {
   "cell_type": "code",
   "execution_count": 7,
   "metadata": {},
   "outputs": [],
   "source": [
    "from tqdm.auto import tqdm"
   ]
  },
  {
   "cell_type": "code",
   "execution_count": 19,
   "metadata": {},
   "outputs": [
    {
     "data": {
      "application/vnd.jupyter.widget-view+json": {
       "model_id": "4d69eaa9f13c4186bc05b286401de878",
       "version_major": 2,
       "version_minor": 0
      },
      "text/plain": [
       "  0%|          | 0/2349 [00:00<?, ?it/s]"
      ]
     },
     "metadata": {},
     "output_type": "display_data"
    }
   ],
   "source": [
    "SYSTEM_PROMPT = \"\"\"You are Moeen, the razor-sharp mimic artist. \n",
    "You combine incisive wit with candid honesty, blending dark humor and practical insights. \n",
    "Never shy away from delivering a truth that cuts deep.\"\"\"\n",
    "\n",
    "new_rows = []\n",
    "for i in tqdm(range(len(data) - 1)):\n",
    "    current_row = data[i]\n",
    "    next_row = data[i + 1]\n",
    "\n",
    "    if current_row[\"name\"] != 'moeen' and next_row[\"name\"] == 'moeen':\n",
    "        if current_row[\"episode no\"] == next_row[\"episode no\"]:\n",
    "            new_rows.append({\n",
    "                \"conversations\": [\n",
    "                    {\"from\": \"system\", \"value\": SYSTEM_PROMPT.strip()},\n",
    "                    {\"from\": \"human\", \"value\": current_row[\"line\"].strip()},\n",
    "                    {\"from\": \"gpt\", \"value\": next_row[\"line\"].strip()}\n",
    "                ]\n",
    "            })\n"
   ]
  },
  {
   "cell_type": "code",
   "execution_count": 20,
   "metadata": {},
   "outputs": [
    {
     "data": {
      "text/plain": [
       "{'conversations': [{'from': 'system',\n",
       "   'value': 'You are Moeen, the razor-sharp mimic artist. \\nYou combine incisive wit with candid honesty, blending dark humor and practical insights. \\nNever shy away from delivering a truth that cuts deep.'},\n",
       "  {'from': 'human',\n",
       "   'value': 'السلام علیکم، دوست ٹاک کے ساتھ انور مقصود آپ کی خدمت میں。 دوست ٹاک میں جو آج میرے مہمان ہیں وہ ہارمونیم نواز ہیں۔'},\n",
       "  {'from': 'gpt', 'value': 'سنئے فرندز کم، السلام علیکم۔'}]}"
      ]
     },
     "execution_count": 20,
     "metadata": {},
     "output_type": "execute_result"
    }
   ],
   "source": [
    "new_rows[0]"
   ]
  },
  {
   "cell_type": "code",
   "execution_count": 21,
   "metadata": {},
   "outputs": [],
   "source": [
    "from datasets import Dataset\n",
    "sharegpt_dataset = Dataset.from_list(new_rows)"
   ]
  },
  {
   "cell_type": "code",
   "execution_count": 23,
   "metadata": {},
   "outputs": [
    {
     "data": {
      "application/vnd.jupyter.widget-view+json": {
       "model_id": "d9a2ade5ad924d43aef73008d506f1c2",
       "version_major": 2,
       "version_minor": 0
      },
      "text/plain": [
       "VBox(children=(HTML(value='<center> <img\\nsrc=https://huggingface.co/front/assets/huggingface_logo-noborder.sv…"
      ]
     },
     "metadata": {},
     "output_type": "display_data"
    }
   ],
   "source": [
    "from huggingface_hub import notebook_login\n",
    "\n",
    "notebook_login()"
   ]
  },
  {
   "cell_type": "code",
   "execution_count": 24,
   "metadata": {},
   "outputs": [
    {
     "data": {
      "application/vnd.jupyter.widget-view+json": {
       "model_id": "7fd07d8112834ddf80ebc193396ad4c1",
       "version_major": 2,
       "version_minor": 0
      },
      "text/plain": [
       "Uploading the dataset shards:   0%|          | 0/1 [00:00<?, ?it/s]"
      ]
     },
     "metadata": {},
     "output_type": "display_data"
    },
    {
     "data": {
      "application/vnd.jupyter.widget-view+json": {
       "model_id": "c085f582334a45b48cffad858bb2ee6b",
       "version_major": 2,
       "version_minor": 0
      },
      "text/plain": [
       "Creating parquet from Arrow format:   0%|          | 0/2 [00:00<?, ?ba/s]"
      ]
     },
     "metadata": {},
     "output_type": "display_data"
    },
    {
     "data": {
      "application/vnd.jupyter.widget-view+json": {
       "model_id": "b82a64c2d1d241afa9f3ca93e89c18d5",
       "version_major": 2,
       "version_minor": 0
      },
      "text/plain": [
       "README.md:   0%|          | 0.00/351 [00:00<?, ?B/s]"
      ]
     },
     "metadata": {},
     "output_type": "display_data"
    },
    {
     "name": "stderr",
     "output_type": "stream",
     "text": [
      "c:\\Users\\Usman\\anaconda3\\envs\\seo\\Lib\\site-packages\\huggingface_hub\\file_download.py:139: UserWarning: `huggingface_hub` cache-system uses symlinks by default to efficiently store duplicated files but your machine does not support them in C:\\Users\\Usman\\.cache\\huggingface\\hub\\datasets--ussmaanaali--loose-talk-transcripts-sharegpt. Caching files will still work but in a degraded version that might require more space on your disk. This warning can be disabled by setting the `HF_HUB_DISABLE_SYMLINKS_WARNING` environment variable. For more details, see https://huggingface.co/docs/huggingface_hub/how-to-cache#limitations.\n",
      "To support symlinks on Windows, you either need to activate Developer Mode or to run Python as an administrator. In order to activate developer mode, see this article: https://docs.microsoft.com/en-us/windows/apps/get-started/enable-your-device-for-development\n",
      "  warnings.warn(message)\n"
     ]
    },
    {
     "data": {
      "text/plain": [
       "CommitInfo(commit_url='https://huggingface.co/datasets/ussmaanaali/loose-talk-transcripts-sharegpt/commit/40ee72a9f3844b364eb5a98029a13ce4b4dbdfca', commit_message='Upload dataset', commit_description='', oid='40ee72a9f3844b364eb5a98029a13ce4b4dbdfca', pr_url=None, repo_url=RepoUrl('https://huggingface.co/datasets/ussmaanaali/loose-talk-transcripts-sharegpt', endpoint='https://huggingface.co', repo_type='dataset', repo_id='ussmaanaali/loose-talk-transcripts-sharegpt'), pr_revision=None, pr_num=None)"
      ]
     },
     "execution_count": 24,
     "metadata": {},
     "output_type": "execute_result"
    }
   ],
   "source": [
    "sharegpt_dataset.push_to_hub(\"ussmaanaali/loose-talk-transcripts-sharegpt\")"
   ]
  },
  {
   "cell_type": "code",
   "execution_count": null,
   "metadata": {},
   "outputs": [],
   "source": []
  }
 ],
 "metadata": {
  "kernelspec": {
   "display_name": "seo",
   "language": "python",
   "name": "seo"
  },
  "language_info": {
   "codemirror_mode": {
    "name": "ipython",
    "version": 3
   },
   "file_extension": ".py",
   "mimetype": "text/x-python",
   "name": "python",
   "nbconvert_exporter": "python",
   "pygments_lexer": "ipython3",
   "version": "3.12.7"
  }
 },
 "nbformat": 4,
 "nbformat_minor": 2
}
